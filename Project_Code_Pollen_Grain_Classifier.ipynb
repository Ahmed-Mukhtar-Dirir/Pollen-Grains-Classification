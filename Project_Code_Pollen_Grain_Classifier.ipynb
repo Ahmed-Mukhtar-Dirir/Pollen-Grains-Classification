{
  "nbformat": 4,
  "nbformat_minor": 0,
  "metadata": {
    "colab": {
      "name": "Project Code Pollen Grain Classifier.ipynb",
      "provenance": [],
      "collapsed_sections": []
    },
    "kernelspec": {
      "name": "python3",
      "display_name": "Python 3"
    },
    "accelerator": "GPU"
  },
  "cells": [
    {
      "cell_type": "code",
      "metadata": {
        "id": "k9gZE6KvW4YX",
        "colab": {
          "base_uri": "https://localhost:8080/"
        },
        "outputId": "efe34e3c-31a5-4df9-b9a4-f40f9743f6ee"
      },
      "source": [
        "# Import of required modules..\n",
        "%pylab inline\n",
        "import matplotlib.pyplot as plt\n",
        "import matplotlib.image as mpimg\n",
        "from sklearn.metrics import classification_report\n",
        "from sklearn.metrics import confusion_matrix\n",
        "import seaborn as sns\n",
        "\n",
        "from __future__ import print_function, division\n",
        "\n",
        "import torch\n",
        "import torch.nn as nn\n",
        "import torch.optim as optim\n",
        "from torch.optim import lr_scheduler\n",
        "import numpy as np\n",
        "import torchvision\n",
        "from torchvision import datasets, models, transforms\n",
        "import time\n",
        "import os\n",
        "import copy\n",
        "\n",
        "np.random.seed(10)\n",
        "plt.ion()   # interactive mode"
      ],
      "execution_count": 1,
      "outputs": [
        {
          "output_type": "stream",
          "text": [
            "Populating the interactive namespace from numpy and matplotlib\n"
          ],
          "name": "stdout"
        }
      ]
    },
    {
      "cell_type": "code",
      "metadata": {
        "id": "up4kyj8rXLoV"
      },
      "source": [
        "# Data transformation for train, val and test datasets.\n",
        "data_transforms = {\n",
        "    'Training_dir': transforms.Compose([\n",
        "        transforms.RandomResizedCrop(224),\n",
        "        transforms.RandomHorizontalFlip(),\n",
        "        transforms.RandomVerticalFlip(),\n",
        "        transforms.RandomAffine(0,translate=(0.1,0.1),shear=1),\n",
        "        transforms.RandomRotation(20),\n",
        "        transforms.ToTensor(),\n",
        "        transforms.Normalize([0.485, 0.456, 0.406], [0.229, 0.224, 0.225])\n",
        "    ]),\n",
        "    'Validation_dir': transforms.Compose([\n",
        "        transforms.Resize(256),\n",
        "        transforms.CenterCrop(224),\n",
        "        transforms.ToTensor(),\n",
        "        transforms.Normalize([0.485, 0.456, 0.406], [0.229, 0.224, 0.225])\n",
        "    ]),\n",
        "    'Testing_dir': transforms.Compose([\n",
        "        transforms.Resize(224),\n",
        "        transforms.ToTensor(),\n",
        "        transforms.Normalize([0.485, 0.456, 0.406], [0.229, 0.224, 0.225])\n",
        "    ]),\n",
        "}\n",
        "\n",
        "data_dir = ''\n",
        "# Loader to load the training and valiadtion data sets from 'Training_dir','Validation_dir' directory for model training and validation.\n",
        "image_datasets = {x: datasets.ImageFolder(os.path.join(data_dir, x), data_transforms[x]) for x in ['Training_dir', 'Validation_dir']}\n",
        "dataloaders = {x: torch.utils.data.DataLoader(image_datasets[x], batch_size=4,shuffle=True,) for x in ['Training_dir', 'Validation_dir']}\n",
        "dataset_sizes = {x: len(image_datasets[x]) for x in ['Training_dir', 'Validation_dir']}\n",
        "class_names = image_datasets['Training_dir'].classes\n",
        "\n",
        "# Loader to load the testing data sets from 'Testing_dir' directory for model evaluation.\n",
        "testset = datasets.ImageFolder(os.path.join(data_dir, 'Testing_dir'),data_transforms['Testing_dir'])\n",
        "testloader = torch.utils.data.DataLoader(testset, batch_size=600,shuffle=False)\n",
        "\n",
        "device = torch.device(\"cuda:0\" if torch.cuda.is_available() else \"cpu\")"
      ],
      "execution_count": 2,
      "outputs": []
    },
    {
      "cell_type": "code",
      "metadata": {
        "id": "CYT_lF3ZfHfv"
      },
      "source": [
        "# Function definition for model training, get model,loss function(criterion), optimizer ...\n",
        "# ... scheduler to schedule the learning rate so it get smaller to speed up model divergence and number of epochs\n",
        "def train_model(model, criterion, optimizer, scheduler, num_epochs=25):\n",
        "    since = time.time()\n",
        "    best_model_wts = copy.deepcopy(model.state_dict())\n",
        "    best_acc = 0.0\n",
        "\n",
        "    loss_history = np.zeros((2,num_epochs))# Used to track train and validation loss\n",
        "    acc_history = np.zeros((2,num_epochs)) # Used to track train and validation accuracy\n",
        "\n",
        "    for epoch in range(num_epochs):\n",
        "        print('Epoch {}/{}'.format(epoch, num_epochs - 1))\n",
        "        print('-' * 10)\n",
        "\n",
        "        # Each epoch has a training and validation phase\n",
        "        for phase in ['Training_dir', 'Validation_dir']:\n",
        "            if phase == 'Training_dir':\n",
        "                model.train()  # Set model to training mode\n",
        "            else:\n",
        "                model.eval()   # Set model to evaluate mode\n",
        "\n",
        "            running_loss = 0.0\n",
        "            running_corrects = 0\n",
        "\n",
        "            # Iterate over data.\n",
        "            for inputs, labels in dataloaders[phase]:\n",
        "                inputs = inputs.to(device)\n",
        "                labels = labels.to(device)\n",
        "\n",
        "                # zero the parameter gradients\n",
        "                optimizer.zero_grad()\n",
        "\n",
        "                # forward, track history if only in train\n",
        "                with torch.set_grad_enabled(phase == 'Training_dir'):\n",
        "                    outputs = model(inputs)\n",
        "                    _, preds = torch.max(outputs, 1)\n",
        "                    loss = criterion(outputs, labels)\n",
        "\n",
        "                    # backward + optimize only if in training phase\n",
        "                    if phase == 'Training_dir':\n",
        "                        loss.backward()\n",
        "                        optimizer.step()\n",
        "\n",
        "                # loss and accuracy calculation\n",
        "                running_loss += loss.item() * inputs.size(0)\n",
        "                running_corrects += torch.sum(preds == labels.data)\n",
        "\n",
        "            # Update learning rate.\n",
        "            if phase == 'Training_dir':\n",
        "                scheduler.step()\n",
        "\n",
        "            # loss and accuracy calculation over entire epoch\n",
        "            epoch_loss = running_loss / dataset_sizes[phase]\n",
        "            epoch_acc = running_corrects.double() / dataset_sizes[phase]\n",
        "\n",
        "            if phase == 'Training_dir':\n",
        "                # First row is used to store training accuracy and loss\n",
        "                loss_history[0][epoch] = epoch_loss\n",
        "                acc_history[0][epoch] = epoch_acc\n",
        "            else:\n",
        "                # Second row is used to store validation accuracy and loss\n",
        "                loss_history[1][epoch] = epoch_loss\n",
        "                acc_history[1][epoch] = epoch_acc\n",
        "\n",
        "            print('{} Loss: {:.4f} Acc: {:.4f}'.format(phase, epoch_loss, epoch_acc))\n",
        "\n",
        "            # copy the best model\n",
        "            if phase == 'Validation_dir' and epoch_acc > best_acc:\n",
        "                best_acc = epoch_acc\n",
        "                best_model_wts = copy.deepcopy(model.state_dict())\n",
        "        print()\n",
        "\n",
        "    time_elapsed = time.time() - since\n",
        "    print('Training complete in {:.0f}m {:.0f}s'.format(time_elapsed // 60, time_elapsed % 60))\n",
        "    print('Best val Acc: {:4f}'.format(best_acc))\n",
        "\n",
        "    # load best model weights\n",
        "    model.load_state_dict(best_model_wts)\n",
        "\n",
        "    # Return trained model, accuracy and loss results\n",
        "    return model, loss_history, acc_history"
      ],
      "execution_count": 3,
      "outputs": []
    },
    {
      "cell_type": "code",
      "metadata": {
        "id": "lUtiIR_pfrbW"
      },
      "source": [
        "# Instantiate the model with pretrained weights for resnet50 neural network\n",
        "model_ft = models.resnet50(pretrained=True)\n",
        "\n",
        "# Count the number of input neurons to the last layer (2048)\n",
        "num_ftrs = model_ft.fc.in_features\n",
        "\n",
        "# Create the last layer with input of (2048), and output of (4).\n",
        "model_ft.fc = nn.Linear(num_ftrs, len(class_names))\n",
        "\n",
        "model_ft = model_ft.to(device)\n",
        "\n",
        "# Create the loss function --> cross entropy loss\n",
        "criterion = nn.CrossEntropyLoss()\n",
        "\n",
        "# Create the optimizer --> Stocastic Gradient Descent\n",
        "optimizer_ft = optim.SGD(model_ft.parameters(), lr=0.001, momentum=0.9)\n",
        "\n",
        "# Decay learning rate by a factor of 0.1 every 7 epochs\n",
        "exp_lr_scheduler = lr_scheduler.StepLR(optimizer_ft, step_size=7, gamma=0.1)"
      ],
      "execution_count": 4,
      "outputs": []
    },
    {
      "cell_type": "code",
      "metadata": {
        "id": "fEUKiedJfyTP",
        "colab": {
          "base_uri": "https://localhost:8080/"
        },
        "outputId": "e3eab65c-f75e-446d-efcf-2dcea98c0a6f"
      },
      "source": [
        "# Traing the model for 100 epochs\n",
        "model_ft,loss,acc = train_model(model_ft, criterion, optimizer_ft, exp_lr_scheduler,\n",
        "                       num_epochs=5)\n",
        "\n",
        "# Store the model\n",
        "PATH = './model_net_resnet50.pth'\n",
        "torch.save(model_ft.state_dict(), PATH)"
      ],
      "execution_count": 5,
      "outputs": [
        {
          "output_type": "stream",
          "text": [
            "Epoch 0/4\n",
            "----------\n",
            "Training_dir Loss: 1.1441 Acc: 0.5360\n",
            "Validation_dir Loss: 0.8052 Acc: 0.7036\n",
            "\n",
            "Epoch 1/4\n",
            "----------\n",
            "Training_dir Loss: 0.9828 Acc: 0.6340\n",
            "Validation_dir Loss: 1.0293 Acc: 0.6464\n",
            "\n",
            "Epoch 2/4\n",
            "----------\n",
            "Training_dir Loss: 0.8860 Acc: 0.6585\n",
            "Validation_dir Loss: 0.8058 Acc: 0.7821\n",
            "\n",
            "Epoch 3/4\n",
            "----------\n",
            "Training_dir Loss: 0.8523 Acc: 0.6860\n",
            "Validation_dir Loss: 0.8162 Acc: 0.6964\n",
            "\n",
            "Epoch 4/4\n",
            "----------\n",
            "Training_dir Loss: 0.7335 Acc: 0.7265\n",
            "Validation_dir Loss: 0.6979 Acc: 0.7286\n",
            "\n",
            "Training complete in 2m 50s\n",
            "Best val Acc: 0.782143\n"
          ],
          "name": "stdout"
        }
      ]
    },
    {
      "cell_type": "code",
      "metadata": {
        "colab": {
          "base_uri": "https://localhost:8080/"
        },
        "id": "R6lY5EoKqvT_",
        "outputId": "bab5af8d-e1cd-4601-bbef-088976910dda"
      },
      "source": [
        "# Model testing, we will have 150 images for each class (4 classes) == (600 images).\n",
        "correct = 0\n",
        "total = 0\n",
        "with torch.no_grad():\n",
        "    for data in testloader:\n",
        "        images, labels = data\n",
        "        target = labels\n",
        "        images = images.to(device)\n",
        "        labels = labels.to(device)\n",
        "        outputs = model_ft(images)\n",
        "        _, predicted = torch.max(outputs.data, 1)\n",
        "        total += labels.size(0)\n",
        "        correct += (predicted == labels).sum().item()\n",
        "\n",
        "print(f'Total number of test images: {total}')\n",
        "print('Accuracy of the network on the test images: %d %%' % (100 * correct / total))"
      ],
      "execution_count": 6,
      "outputs": [
        {
          "output_type": "stream",
          "text": [
            "Total number of test images: 600\n",
            "Accuracy of the network on the test images: 76 %\n"
          ],
          "name": "stdout"
        }
      ]
    },
    {
      "cell_type": "code",
      "metadata": {
        "colab": {
          "base_uri": "https://localhost:8080/"
        },
        "id": "0mA6F27rAUPJ",
        "outputId": "dbe5179f-eef4-4034-c6b4-190524d63836"
      },
      "source": [
        "# calculate and print the recall, precision and f1 score for model testing\n",
        "print(classification_report(labels.cpu(), predicted.cpu()))"
      ],
      "execution_count": 7,
      "outputs": [
        {
          "output_type": "stream",
          "text": [
            "              precision    recall  f1-score   support\n",
            "\n",
            "           0       0.84      0.76      0.80       150\n",
            "           1       0.66      0.95      0.78       150\n",
            "           2       0.74      0.93      0.82       150\n",
            "           3       1.00      0.41      0.58       150\n",
            "\n",
            "    accuracy                           0.76       600\n",
            "   macro avg       0.81      0.76      0.74       600\n",
            "weighted avg       0.81      0.76      0.74       600\n",
            "\n"
          ],
          "name": "stdout"
        }
      ]
    },
    {
      "cell_type": "code",
      "metadata": {
        "colab": {
          "base_uri": "https://localhost:8080/"
        },
        "id": "2eaWTuVYA8DG",
        "outputId": "9590009e-95ee-4114-91b8-c25681ca4768"
      },
      "source": [
        "# calculte and print the confusion matric\n",
        "cm = confusion_matrix(target, predicted.cpu())\n",
        "print(cm)"
      ],
      "execution_count": 8,
      "outputs": [
        {
          "output_type": "stream",
          "text": [
            "[[114  14  22   0]\n",
            " [  4 142   4   0]\n",
            " [  8   3 139   0]\n",
            " [  9  56  24  61]]\n"
          ],
          "name": "stdout"
        }
      ]
    },
    {
      "cell_type": "code",
      "metadata": {
        "colab": {
          "base_uri": "https://localhost:8080/",
          "height": 266
        },
        "id": "8p-M72CZBpLh",
        "outputId": "ba23b350-4b06-4661-8a10-9d35eb111919"
      },
      "source": [
        "# Calculate and show the confusion matrix\n",
        "hm = sns.heatmap(cm, annot=True,fmt=\"d\")"
      ],
      "execution_count": 9,
      "outputs": [
        {
          "output_type": "display_data",
          "data": {
            "image/png": "[encoded data removed]",
            "text/plain": [
              "<Figure size 432x288 with 2 Axes>"
            ]
          },
          "metadata": {
            "tags": [],
            "needs_background": "light"
          }
        }
      ]
    },
    {
      "cell_type": "code",
      "metadata": {
        "id": "35cI8trgVQR5"
      },
      "source": [
        "# Get the train and validation loss and accuracy.\n",
        "train_acc = acc[0,:]\n",
        "val_acc = acc[1,:]\n",
        "train_loss = loss[0,:]\n",
        "val_loss = loss[1,:]"
      ],
      "execution_count": 10,
      "outputs": []
    },
    {
      "cell_type": "code",
      "metadata": {
        "colab": {
          "base_uri": "https://localhost:8080/",
          "height": 313
        },
        "id": "hSgdRslE-Afi",
        "outputId": "f7aebac1-59ba-44b8-fabf-5915289bc396"
      },
      "source": [
        "# Plot the training and validation accuracy\n",
        "epochs = range(len(train_acc))\n",
        "plt.plot(epochs, train_acc, 'r', label='Training accuracy')\n",
        "plt.plot(epochs, val_acc, 'b', label='Validation accuracy')\n",
        "plt.title('Training and validation accuracy')\n",
        "plt.xlabel('Epochs')\n",
        "plt.ylabel('Accuracy')\n",
        "plt.legend(loc=0)\n",
        "plt.figure()\n",
        "plt.show()"
      ],
      "execution_count": 11,
      "outputs": [
        {
          "output_type": "display_data",
          "data": {
            "image/png": "[encoded data removed]",
            "text/plain": [
              "<Figure size 432x288 with 1 Axes>"
            ]
          },
          "metadata": {
            "tags": [],
            "needs_background": "light"
          }
        },
        {
          "output_type": "display_data",
          "data": {
            "text/plain": [
              "<Figure size 432x288 with 0 Axes>"
            ]
          },
          "metadata": {
            "tags": []
          }
        }
      ]
    },
    {
      "cell_type": "code",
      "metadata": {
        "colab": {
          "base_uri": "https://localhost:8080/",
          "height": 313
        },
        "id": "fCQ2PlHV_BBS",
        "outputId": "ee45b673-f744-42db-c72a-2722bb0a35a4"
      },
      "source": [
        "# Plot the training and validation loss\n",
        "plt.plot(epochs, train_loss, 'r', label='Training Loss')\n",
        "plt.plot(epochs, val_loss, 'b', label='Validation Loss')\n",
        "plt.title('Training and validation Loss')\n",
        "plt.xlabel('Epochs')\n",
        "plt.ylabel('Loss')\n",
        "plt.legend(loc=0)\n",
        "plt.figure()\n",
        "\n",
        "plt.show()"
      ],
      "execution_count": 12,
      "outputs": [
        {
          "output_type": "display_data",
          "data": {
            "image/png": "[encoded data removed]",
            "text/plain": [
              "<Figure size 432x288 with 1 Axes>"
            ]
          },
          "metadata": {
            "tags": [],
            "needs_background": "light"
          }
        },
        {
          "output_type": "display_data",
          "data": {
            "text/plain": [
              "<Figure size 432x288 with 0 Axes>"
            ]
          },
          "metadata": {
            "tags": []
          }
        }
      ]
    }
  ]
}